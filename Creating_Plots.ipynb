{
  "nbformat": 4,
  "nbformat_minor": 0,
  "metadata": {
    "kernelspec": {
      "display_name": "Python 3",
      "language": "python",
      "name": "python3"
    },
    "language_info": {
      "codemirror_mode": {
        "name": "ipython",
        "version": 3
      },
      "file_extension": ".py",
      "mimetype": "text/x-python",
      "name": "python",
      "nbconvert_exporter": "python",
      "pygments_lexer": "ipython3",
      "version": "3.7.6"
    },
    "colab": {
      "name": "Creating_Plots.ipynb",
      "provenance": [],
      "collapsed_sections": [],
      "include_colab_link": true
    }
  },
  "cells": [
    {
      "cell_type": "markdown",
      "metadata": {
        "id": "view-in-github",
        "colab_type": "text"
      },
      "source": [
        "<a href=\"https://colab.research.google.com/github/20DianaRivero01/datapreprocessing/blob/master/Creating_Plots.ipynb\" target=\"_parent\"><img src=\"https://colab.research.google.com/assets/colab-badge.svg\" alt=\"Open In Colab\"/></a>"
      ]
    },
    {
      "cell_type": "markdown",
      "metadata": {
        "id": "T36hgUDrgIDR"
      },
      "source": [
        "# **Comparation and Data Distribution**\n"
      ]
    },
    {
      "cell_type": "markdown",
      "metadata": {
        "id": "4aJOARqfEZ6o"
      },
      "source": [
        "### Importing libraries"
      ]
    },
    {
      "cell_type": "code",
      "metadata": {
        "id": "wmeeGAV4gIDS"
      },
      "source": [
        "import seaborn as sns\n",
        "import pandas as pd \n",
        "import matplotlib.pyplot as plt"
      ],
      "execution_count": 2,
      "outputs": []
    },
    {
      "cell_type": "markdown",
      "metadata": {
        "id": "dKqdh7_gEgXl"
      },
      "source": [
        "### importing data and files"
      ]
    },
    {
      "cell_type": "code",
      "metadata": {
        "colab": {
          "base_uri": "https://localhost:8080/"
        },
        "id": "DjA58V3LgIDT",
        "outputId": "4ff8d3aa-9ff4-45d9-b37d-8445453b38ac"
      },
      "source": [
        "gr = pd.read_csv('india_gdp.csv')\n",
        "print(gr)"
      ],
      "execution_count": 9,
      "outputs": [
        {
          "output_type": "stream",
          "text": [
            "    year  growth_rate country\n",
            "0   2012         2.25      US\n",
            "1   2013         1.84      US\n",
            "2   2014         2.45      US\n",
            "3   2015         2.88      US\n",
            "4   2016         1.56      US\n",
            "5   2017         2.21      US\n",
            "6   2018         2.85      US\n",
            "7   2012         5.46   India\n",
            "8   2013         6.38   India\n",
            "9   2014         7.41   India\n",
            "10  2015         7.99   India\n",
            "11  2016         8.17   India\n",
            "12  2017         7.16   India\n",
            "13  2018         6.98   India\n"
          ],
          "name": "stdout"
        }
      ]
    },
    {
      "cell_type": "markdown",
      "metadata": {
        "id": "-rfv6MUMDon6"
      },
      "source": [
        "## **Present data across a line plot about the growth rate**"
      ]
    },
    {
      "cell_type": "markdown",
      "metadata": {
        "id": "93DNaoIPLIo1"
      },
      "source": [
        "### Bar Chart"
      ]
    },
    {
      "cell_type": "code",
      "metadata": {
        "colab": {
          "base_uri": "https://localhost:8080/",
          "height": 295
        },
        "id": "68AKO-mzIdIJ",
        "outputId": "79295775-7342-4d8e-f654-cb35b58a57b7"
      },
      "source": [
        "# Graph tittle \n",
        "plt.title('Growth rate per year')\n",
        "\n",
        "##signing the axes of the plot\n",
        "ax = sns.barplot(x=\"year\", y=\"growth_rate\",data = gr)\n"
      ],
      "execution_count": 8,
      "outputs": [
        {
          "output_type": "display_data",
          "data": {
            "image/png": "[encoded data removed]",
            "text/plain": [
              "<Figure size 432x288 with 1 Axes>"
            ]
          },
          "metadata": {
            "tags": [],
            "needs_background": "light"
          }
        }
      ]
    },
    {
      "cell_type": "markdown",
      "metadata": {
        "id": "vHishzUZMPFC"
      },
      "source": [
        "## Line Plot"
      ]
    },
    {
      "cell_type": "code",
      "metadata": {
        "colab": {
          "base_uri": "https://localhost:8080/",
          "height": 279
        },
        "id": "YT1NnPlvgIDU",
        "outputId": "4081d64a-32b4-48f7-9ac7-38d0a7c0973b"
      },
      "source": [
        "# asigning values and showing how the countries have chenged over the years in relation with the growth rate\n",
        "ax = sns.lineplot(x=\"year\", y=\"growth_rate\", data=gr[gr['country']=='US'], color='purple')\n",
        "ax = sns.lineplot(x=\"year\", y=\"growth_rate\", data=gr[gr['country']=='India'], color='yellow')\n"
      ],
      "execution_count": 5,
      "outputs": [
        {
          "output_type": "display_data",
          "data": {
            "image/png": "[encoded data removed]",
            "text/plain": [
              "<Figure size 432x288 with 1 Axes>"
            ]
          },
          "metadata": {
            "tags": [],
            "needs_background": "light"
          }
        }
      ]
    },
    {
      "cell_type": "markdown",
      "metadata": {
        "id": "FT3e0VzKMTLI"
      },
      "source": [
        "## Bar plots grouped "
      ]
    },
    {
      "cell_type": "code",
      "metadata": {
        "colab": {
          "base_uri": "https://localhost:8080/",
          "height": 279
        },
        "id": "CeH65cbYgIDU",
        "outputId": "3f7d005c-b8cc-4efb-a4d2-40216ab7e06b"
      },
      "source": [
        "# comparing the countries growth rate by each year\n",
        "ax = sns.barplot(x=\"year\", y=\"growth_rate\", hue='country', data=gr)"
      ],
      "execution_count": 6,
      "outputs": [
        {
          "output_type": "display_data",
          "data": {
            "image/png": "[encoded data removed]",
            "text/plain": [
              "<Figure size 432x288 with 1 Axes>"
            ]
          },
          "metadata": {
            "tags": [],
            "needs_background": "light"
          }
        }
      ]
    }
  ]
}